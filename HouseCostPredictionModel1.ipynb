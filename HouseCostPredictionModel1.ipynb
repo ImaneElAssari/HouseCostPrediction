{
  "nbformat": 4,
  "nbformat_minor": 0,
  "metadata": {
    "colab": {
      "name": "HouseCostPredictionModel1.ipynb",
      "provenance": [],
      "authorship_tag": "ABX9TyN98EycP+8x7V+MGMtX1qJP",
      "include_colab_link": true
    },
    "kernelspec": {
      "name": "python3",
      "display_name": "Python 3"
    }
  },
  "cells": [
    {
      "cell_type": "markdown",
      "metadata": {
        "id": "view-in-github",
        "colab_type": "text"
      },
      "source": [
        "<a href=\"https://colab.research.google.com/github/ImaneElAssari/HouseCostPrediction/blob/master/HouseCostPredictionModel1.ipynb\" target=\"_parent\"><img src=\"https://colab.research.google.com/assets/colab-badge.svg\" alt=\"Open In Colab\"/></a>"
      ]
    },
    {
      "cell_type": "code",
      "metadata": {
        "id": "mNYrYYYplqQ4"
      },
      "source": [
        "import pandas as pd\n",
        "import matplotlib.pyplot as plt\n",
        "from sklearn.linear_model import LinearRegression\n"
      ],
      "execution_count": null,
      "outputs": []
    },
    {
      "cell_type": "markdown",
      "metadata": {
        "id": "HhPloYLRoJ27"
      },
      "source": [
        "**Load some house value vs. crime rate data**"
      ]
    },
    {
      "cell_type": "markdown",
      "metadata": {
        "id": "7PcvZ7ESoP3t"
      },
      "source": [
        "This dataset is from Philadelphia,PA and includes average houses sales proce in a number of neighbohoods.The attributes of each neighborhood we have include the crime rate ('CrimeRate), miles from center city('MilesPhila'), town name ('Name'), and country name('Country')"
      ]
    },
    {
      "cell_type": "code",
      "metadata": {
        "colab": {
          "base_uri": "https://localhost:8080/",
          "height": 217
        },
        "id": "Mzy7VN5UoHYV",
        "outputId": "231d2a0b-460c-4035-b60e-7c7a6cf46fae"
      },
      "source": [
        "sales=pd.read_csv('/content/Philadelphia_Crime_Rate_noNA.csv')\n",
        "sales.head()"
      ],
      "execution_count": null,
      "outputs": [
        {
          "output_type": "execute_result",
          "data": {
            "text/html": [
              "<div>\n",
              "<style scoped>\n",
              "    .dataframe tbody tr th:only-of-type {\n",
              "        vertical-align: middle;\n",
              "    }\n",
              "\n",
              "    .dataframe tbody tr th {\n",
              "        vertical-align: top;\n",
              "    }\n",
              "\n",
              "    .dataframe thead th {\n",
              "        text-align: right;\n",
              "    }\n",
              "</style>\n",
              "<table border=\"1\" class=\"dataframe\">\n",
              "  <thead>\n",
              "    <tr style=\"text-align: right;\">\n",
              "      <th></th>\n",
              "      <th>HousePrice</th>\n",
              "      <th>HsPrc ($10,000)</th>\n",
              "      <th>CrimeRate</th>\n",
              "      <th>MilesPhila</th>\n",
              "      <th>PopChg</th>\n",
              "      <th>Name</th>\n",
              "      <th>County</th>\n",
              "    </tr>\n",
              "  </thead>\n",
              "  <tbody>\n",
              "    <tr>\n",
              "      <th>0</th>\n",
              "      <td>140463</td>\n",
              "      <td>14.0463</td>\n",
              "      <td>29.7</td>\n",
              "      <td>10.0</td>\n",
              "      <td>-1.0</td>\n",
              "      <td>Abington</td>\n",
              "      <td>Montgome</td>\n",
              "    </tr>\n",
              "    <tr>\n",
              "      <th>1</th>\n",
              "      <td>113033</td>\n",
              "      <td>11.3033</td>\n",
              "      <td>24.1</td>\n",
              "      <td>18.0</td>\n",
              "      <td>4.0</td>\n",
              "      <td>Ambler</td>\n",
              "      <td>Montgome</td>\n",
              "    </tr>\n",
              "    <tr>\n",
              "      <th>2</th>\n",
              "      <td>124186</td>\n",
              "      <td>12.4186</td>\n",
              "      <td>19.5</td>\n",
              "      <td>25.0</td>\n",
              "      <td>8.0</td>\n",
              "      <td>Aston</td>\n",
              "      <td>Delaware</td>\n",
              "    </tr>\n",
              "    <tr>\n",
              "      <th>3</th>\n",
              "      <td>110490</td>\n",
              "      <td>11.0490</td>\n",
              "      <td>49.4</td>\n",
              "      <td>25.0</td>\n",
              "      <td>2.7</td>\n",
              "      <td>Bensalem</td>\n",
              "      <td>Bucks</td>\n",
              "    </tr>\n",
              "    <tr>\n",
              "      <th>4</th>\n",
              "      <td>79124</td>\n",
              "      <td>7.9124</td>\n",
              "      <td>54.1</td>\n",
              "      <td>19.0</td>\n",
              "      <td>3.9</td>\n",
              "      <td>Bristol B.</td>\n",
              "      <td>Bucks</td>\n",
              "    </tr>\n",
              "  </tbody>\n",
              "</table>\n",
              "</div>"
            ],
            "text/plain": [
              "   HousePrice  HsPrc ($10,000)  CrimeRate  ...  PopChg        Name    County\n",
              "0      140463          14.0463       29.7  ...    -1.0    Abington  Montgome\n",
              "1      113033          11.3033       24.1  ...     4.0      Ambler  Montgome\n",
              "2      124186          12.4186       19.5  ...     8.0       Aston  Delaware\n",
              "3      110490          11.0490       49.4  ...     2.7    Bensalem     Bucks\n",
              "4       79124           7.9124       54.1  ...     3.9  Bristol B.     Bucks\n",
              "\n",
              "[5 rows x 7 columns]"
            ]
          },
          "metadata": {
            "tags": []
          },
          "execution_count": 2
        }
      ]
    },
    {
      "cell_type": "markdown",
      "metadata": {
        "id": "gOBYS-Eib-Pl"
      },
      "source": [
        "**Exploring the Data**"
      ]
    },
    {
      "cell_type": "code",
      "metadata": {
        "colab": {
          "base_uri": "https://localhost:8080/",
          "height": 291
        },
        "id": "8Ep84TR0pmYD",
        "outputId": "609e85e8-9692-48ce-ccc7-d28d89be76b9"
      },
      "source": [
        "sales.describe()"
      ],
      "execution_count": null,
      "outputs": [
        {
          "output_type": "execute_result",
          "data": {
            "text/html": [
              "<div>\n",
              "<style scoped>\n",
              "    .dataframe tbody tr th:only-of-type {\n",
              "        vertical-align: middle;\n",
              "    }\n",
              "\n",
              "    .dataframe tbody tr th {\n",
              "        vertical-align: top;\n",
              "    }\n",
              "\n",
              "    .dataframe thead th {\n",
              "        text-align: right;\n",
              "    }\n",
              "</style>\n",
              "<table border=\"1\" class=\"dataframe\">\n",
              "  <thead>\n",
              "    <tr style=\"text-align: right;\">\n",
              "      <th></th>\n",
              "      <th>HousePrice</th>\n",
              "      <th>HsPrc ($10,000)</th>\n",
              "      <th>CrimeRate</th>\n",
              "      <th>MilesPhila</th>\n",
              "      <th>PopChg</th>\n",
              "    </tr>\n",
              "  </thead>\n",
              "  <tbody>\n",
              "    <tr>\n",
              "      <th>count</th>\n",
              "      <td>99.000000</td>\n",
              "      <td>99.000000</td>\n",
              "      <td>99.000000</td>\n",
              "      <td>99.000000</td>\n",
              "      <td>98.000000</td>\n",
              "    </tr>\n",
              "    <tr>\n",
              "      <th>mean</th>\n",
              "      <td>157835.606061</td>\n",
              "      <td>15.783561</td>\n",
              "      <td>32.576768</td>\n",
              "      <td>19.282828</td>\n",
              "      <td>2.479592</td>\n",
              "    </tr>\n",
              "    <tr>\n",
              "      <th>std</th>\n",
              "      <td>86644.159973</td>\n",
              "      <td>8.664416</td>\n",
              "      <td>37.540908</td>\n",
              "      <td>9.099552</td>\n",
              "      <td>5.632307</td>\n",
              "    </tr>\n",
              "    <tr>\n",
              "      <th>min</th>\n",
              "      <td>28000.000000</td>\n",
              "      <td>2.800000</td>\n",
              "      <td>6.600000</td>\n",
              "      <td>0.000000</td>\n",
              "      <td>-9.200000</td>\n",
              "    </tr>\n",
              "    <tr>\n",
              "      <th>25%</th>\n",
              "      <td>98505.000000</td>\n",
              "      <td>9.850500</td>\n",
              "      <td>17.400000</td>\n",
              "      <td>13.000000</td>\n",
              "      <td>-0.625000</td>\n",
              "    </tr>\n",
              "    <tr>\n",
              "      <th>50%</th>\n",
              "      <td>140463.000000</td>\n",
              "      <td>14.046300</td>\n",
              "      <td>24.100000</td>\n",
              "      <td>20.000000</td>\n",
              "      <td>1.600000</td>\n",
              "    </tr>\n",
              "    <tr>\n",
              "      <th>75%</th>\n",
              "      <td>195830.000000</td>\n",
              "      <td>19.583000</td>\n",
              "      <td>39.800000</td>\n",
              "      <td>24.500000</td>\n",
              "      <td>4.775000</td>\n",
              "    </tr>\n",
              "    <tr>\n",
              "      <th>max</th>\n",
              "      <td>475112.000000</td>\n",
              "      <td>47.511200</td>\n",
              "      <td>366.100000</td>\n",
              "      <td>50.000000</td>\n",
              "      <td>26.900000</td>\n",
              "    </tr>\n",
              "  </tbody>\n",
              "</table>\n",
              "</div>"
            ],
            "text/plain": [
              "          HousePrice  HsPrc ($10,000)   CrimeRate  MilesPhila     PopChg\n",
              "count      99.000000        99.000000   99.000000   99.000000  98.000000\n",
              "mean   157835.606061        15.783561   32.576768   19.282828   2.479592\n",
              "std     86644.159973         8.664416   37.540908    9.099552   5.632307\n",
              "min     28000.000000         2.800000    6.600000    0.000000  -9.200000\n",
              "25%     98505.000000         9.850500   17.400000   13.000000  -0.625000\n",
              "50%    140463.000000        14.046300   24.100000   20.000000   1.600000\n",
              "75%    195830.000000        19.583000   39.800000   24.500000   4.775000\n",
              "max    475112.000000        47.511200  366.100000   50.000000  26.900000"
            ]
          },
          "metadata": {
            "tags": []
          },
          "execution_count": 3
        }
      ]
    },
    {
      "cell_type": "markdown",
      "metadata": {
        "id": "OqvojHvucTqx"
      },
      "source": [
        "The house price in town is correlated with the crime rate of that town.Low crime towns tend to be associated with higher house prices and vice versa."
      ]
    },
    {
      "cell_type": "code",
      "metadata": {
        "colab": {
          "base_uri": "https://localhost:8080/",
          "height": 295
        },
        "id": "mcllqARXcSyF",
        "outputId": "8d1c8704-12df-4149-ea9e-c6dc56f3dc4d"
      },
      "source": [
        "plt.scatter(sales['CrimeRate'],sales['HousePrice'])\n",
        "plt.title('Scatter plot of the Crime rate and the House price')\n",
        "plt.xlabel('Crime rate')\n",
        "plt.ylabel('House price')\n",
        "plt.show()"
      ],
      "execution_count": null,
      "outputs": [
        {
          "output_type": "display_data",
          "data": {
            "image/png": "[encoded data removed]",
            "text/plain": [
              "<Figure size 432x288 with 1 Axes>"
            ]
          },
          "metadata": {
            "tags": [],
            "needs_background": "light"
          }
        }
      ]
    },
    {
      "cell_type": "markdown",
      "metadata": {
        "id": "u-EVIcereUiX"
      },
      "source": [
        "**Fit the regression model using crime as the feature**"
      ]
    },
    {
      "cell_type": "markdown",
      "metadata": {
        "id": "AKJpy8JbjZ7j"
      },
      "source": [
        "Note: linregress() has many outputs, we are going to focus on the slope and the intercept."
      ]
    },
    {
      "cell_type": "code",
      "metadata": {
        "id": "3E6p3xMsiX_Z"
      },
      "source": [
        "from scipy import stats\n",
        "slope, intercept, r_value, p_value, std_err = stats.linregress(sales['CrimeRate'], sales['HousePrice'])"
      ],
      "execution_count": null,
      "outputs": []
    },
    {
      "cell_type": "code",
      "metadata": {
        "colab": {
          "base_uri": "https://localhost:8080/",
          "height": 324
        },
        "id": "2ZxDmhkQiFhj",
        "outputId": "7346f4d2-2ebb-44bc-c203-432017a5a634"
      },
      "source": [
        "def predict(x):\n",
        "   return slope * x + intercept\n",
        "crime_model = predict(sales['CrimeRate'])\n",
        "plt.plot(sales['CrimeRate'],sales['HousePrice'],'.',\n",
        "         sales['CrimeRate'], crime_model, '-')\n",
        "print(\"slope= \",slope)\n",
        "print(\"The Linear Regression equation is: F(x)=\", slope,\"* x +\",intercept )"
      ],
      "execution_count": null,
      "outputs": [
        {
          "output_type": "stream",
          "text": [
            "slope=  -576.9081276823896\n",
            "The Linear Regression equation is: F(x)= -576.9081276823896 * x + 176629.40810695427\n"
          ],
          "name": "stdout"
        },
        {
          "output_type": "display_data",
          "data": {
            "image/png": "[encoded data removed]",
            "text/plain": [
              "<Figure size 432x288 with 1 Axes>"
            ]
          },
          "metadata": {
            "tags": [],
            "needs_background": "light"
          }
        }
      ]
    },
    {
      "cell_type": "markdown",
      "metadata": {
        "id": "goG3fZkMkzJW"
      },
      "source": [
        "Above: blue dots are the original data, orange line os the fit form of the simple regression"
      ]
    },
    {
      "cell_type": "markdown",
      "metadata": {
        "id": "iiSObYSRk_SB"
      },
      "source": [
        "**Remove Center City and redo the analysis**"
      ]
    },
    {
      "cell_type": "markdown",
      "metadata": {
        "id": "LsR8y1VFlEvl"
      },
      "source": [
        "Center City is the one with an extremely high crime rate, yet house prices are not verylow. This point does not follow the trend of the rest of the data very well. A question is how much including Center City is influencing our fit on the other datapoints.Let's remove this datapoint and see what happens."
      ]
    },
    {
      "cell_type": "code",
      "metadata": {
        "id": "FTFX0LYwlpO0"
      },
      "source": [
        "sales_noCC = sales[sales['MilesPhila']!=0.0]"
      ],
      "execution_count": null,
      "outputs": []
    },
    {
      "cell_type": "code",
      "metadata": {
        "colab": {
          "base_uri": "https://localhost:8080/",
          "height": 283
        },
        "id": "RMuuPMeGl08t",
        "outputId": "73685877-022b-49ea-804d-c4bb0efdab58"
      },
      "source": [
        "plt.plot(sales_noCC['CrimeRate'],sales_noCC['HousePrice'],'.')"
      ],
      "execution_count": null,
      "outputs": [
        {
          "output_type": "execute_result",
          "data": {
            "text/plain": [
              "[<matplotlib.lines.Line2D at 0x7f17890c4e50>]"
            ]
          },
          "metadata": {
            "tags": []
          },
          "execution_count": 8
        },
        {
          "output_type": "display_data",
          "data": {
            "image/png": "[encoded data removed]",
            "text/plain": [
              "<Figure size 432x288 with 1 Axes>"
            ]
          },
          "metadata": {
            "tags": [],
            "needs_background": "light"
          }
        }
      ]
    },
    {
      "cell_type": "markdown",
      "metadata": {
        "id": "0BvlKCWJmvLn"
      },
      "source": [
        "**Refit our simple regression model on this modifies dataset:**"
      ]
    },
    {
      "cell_type": "code",
      "metadata": {
        "id": "6WyMMqdOuv3l"
      },
      "source": [
        "slope, intercept, r_value, p_value, std_err = stats.linregress(sales_noCC['CrimeRate'], sales_noCC['HousePrice'])"
      ],
      "execution_count": null,
      "outputs": []
    },
    {
      "cell_type": "code",
      "metadata": {
        "colab": {
          "base_uri": "https://localhost:8080/",
          "height": 321
        },
        "id": "763cZsEfmIA0",
        "outputId": "c11613da-0f98-4905-f3ee-4520fbf519b1"
      },
      "source": [
        "def predict(x):\n",
        "   return slope * x + intercept\n",
        "crime_model_noCC = predict(sales_noCC['CrimeRate'])\n",
        "plt.plot(sales_noCC['CrimeRate'],sales_noCC['HousePrice'],'.',\n",
        "         sales_noCC['CrimeRate'], crime_model_noCC, '-')\n",
        "print(\"slope= \",slope)\n",
        "print(\"The Linear Regression equation is: F(x)=\", slope,\"* x +\",intercept )"
      ],
      "execution_count": null,
      "outputs": [
        {
          "output_type": "stream",
          "text": [
            "slope=  -2288.6894299483624\n",
            "The Linear Regression equation is: F(x)= -2288.6894299483624 * x + 225233.55183900375\n"
          ],
          "name": "stdout"
        },
        {
          "output_type": "display_data",
          "data": {
            "image/png": "[encoded data removed]",
            "text/plain": [
              "<Figure size 432x288 with 1 Axes>"
            ]
          },
          "metadata": {
            "tags": [],
            "needs_background": "light"
          }
        }
      ]
    },
    {
      "cell_type": "markdown",
      "metadata": {
        "id": "Qn-OgLYYn0sE"
      },
      "source": [
        "**Compare coefficients for full-data fit versus no-Center-City fit**"
      ]
    },
    {
      "cell_type": "markdown",
      "metadata": {
        "id": "3UJOxPXln-Hd"
      },
      "source": [
        "Visually the fit seems different, butlet's quantify this by examining the estimates coefficients of our original fit and that of the modified dataset with Center City removed."
      ]
    },
    {
      "cell_type": "markdown",
      "metadata": {
        "id": "LvSHM3VnrkJU"
      },
      "source": [
        "The Linear Regression fit for the first model (Original Data) is : F(x)= -576.9081276823896 * x + 176629.40810695427 "
      ]
    },
    {
      "cell_type": "markdown",
      "metadata": {
        "id": "RhB8OaaXsBot"
      },
      "source": [
        "The Linear Regression fit for the second model (without the center city) is: F(x)= -2288.6894299483624 * x + 225233.55183900375"
      ]
    },
    {
      "cell_type": "markdown",
      "metadata": {
        "id": "OJKjHtfvsdn6"
      },
      "source": [
        "We can note that for the \"no Center City\" version, per unit increases in Crime, the predicted decrease in house price is 2.287.\n",
        "In constrast, for the original dataset, the drop is only 576 per unit increase in crime. This is significantly different!"
      ]
    },
    {
      "cell_type": "markdown",
      "metadata": {
        "id": "cnoeCN36yeOE"
      },
      "source": [
        "**High leverage points :**"
      ]
    },
    {
      "cell_type": "markdown",
      "metadata": {
        "id": "plwrLndqtHK_"
      },
      "source": [
        "\n",
        "Center City is said to be a \"high leverage\" point because it is at an extreme x value where there are not other observations.As a result, reaclling the closed-form solution for simple regression, this point has the potential to dramatically change the least squares line since the center of x mass is heavly influenced by this one point and the least squares line will try to fit close to that outlying (in x) point. If a high leverage point follows the trend of the other data,this might not hvae much effect. On the other hand, if this point somehow differs, it can be strongly influential in the resulting fit."
      ]
    },
    {
      "cell_type": "markdown",
      "metadata": {
        "id": "5WiUvDbY0DFv"
      },
      "source": [
        "**Influential observations:**"
      ]
    },
    {
      "cell_type": "markdown",
      "metadata": {
        "id": "PWM7dc5s0cdN"
      },
      "source": [
        "As influential observation is one where the removal of the point significantly changes the fit. As discussed above, high leverage points are good candidates for being influential observations, but need not be. Other observations that are not leverage points can also be influential observations(e.g : strongly outlying  in y even if x is a typical value).\n"
      ]
    },
    {
      "cell_type": "markdown",
      "metadata": {
        "id": "P7zMLfBU1dbB"
      },
      "source": [
        "**Remove high-value outlier neighborhoods and redo analysis**"
      ]
    },
    {
      "cell_type": "markdown",
      "metadata": {
        "id": "pftat7Ol1nF9"
      },
      "source": [
        " Based on the disscution above, a question is whether the outlying high value towns are strongly influencing the fit.Let's remove  them and see what happens.\n",
        " "
      ]
    },
    {
      "cell_type": "code",
      "metadata": {
        "id": "0KRXD1378ppY"
      },
      "source": [
        "sales_nohighend = sales_noCC[sales_noCC['HousePrice']<350000]\n",
        "slope, intercept, r_value, p_value, std_err = stats.linregress(sales_nohighend['CrimeRate'], sales_nohighend['HousePrice'])\n"
      ],
      "execution_count": null,
      "outputs": []
    },
    {
      "cell_type": "code",
      "metadata": {
        "colab": {
          "base_uri": "https://localhost:8080/",
          "height": 321
        },
        "id": "_w93ZxjUEGEF",
        "outputId": "8ae75ab1-0e20-4058-9f95-6ae9a8a35d37"
      },
      "source": [
        "def predictBis(x):\n",
        "   return slope * x + intercept\n",
        "crime_model_nohighend = predictBis(sales_nohighend['CrimeRate'])\n",
        "plt.plot(sales_nohighend['CrimeRate'],sales_nohighend['HousePrice'],'.',\n",
        "         sales_nohighend['CrimeRate'], crime_model_nohighend, '-')\n",
        "print(\"slope= \",slope)\n",
        "print(\"The Linear Regression equation is: F(x)=\", slope,\"* x +\",intercept )"
      ],
      "execution_count": null,
      "outputs": [
        {
          "output_type": "stream",
          "text": [
            "slope=  -1838.562648589964\n",
            "The Linear Regression equation is: F(x)= -1838.562648589964 * x + 199098.85266980447\n"
          ],
          "name": "stdout"
        },
        {
          "output_type": "display_data",
          "data": {
            "image/png": "[encoded data removed]",
            "text/plain": [
              "<Figure size 432x288 with 1 Axes>"
            ]
          },
          "metadata": {
            "tags": [],
            "needs_background": "light"
          }
        }
      ]
    },
    {
      "cell_type": "markdown",
      "metadata": {
        "id": "9bSHQ7AvEqw9"
      },
      "source": [
        "**Do the coefficients change much?**"
      ]
    },
    {
      "cell_type": "markdown",
      "metadata": {
        "id": "XnhJPEBczjwI"
      },
      "source": [
        "Above: We can note that removing the outlying high-value neighborhoods has some effect on the fit, but not nearly as much as our high-leverage Center City datapoint"
      ]
    }
  ]
}